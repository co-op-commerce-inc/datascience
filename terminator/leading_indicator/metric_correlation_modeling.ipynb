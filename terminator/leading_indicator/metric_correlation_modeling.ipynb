{
 "cells": [
  {
   "cell_type": "code",
   "execution_count": 13,
   "metadata": {},
   "outputs": [],
   "source": [
    "import pandas as pd\n",
    "import numpy as np\n",
    "import matplotlib.pyplot as plt\n",
    "import seaborn as sns\n",
    "import os\n",
    "from scipy.stats import beta\n",
    "import plotly.express as px\n",
    "from datetime import datetime\n",
    "\n",
    "import warnings\n",
    "# Filter out all warnings\n",
    "warnings.filterwarnings('ignore', category=Warning)"
   ]
  },
  {
   "cell_type": "code",
   "execution_count": 11,
   "metadata": {},
   "outputs": [
    {
     "data": {
      "text/html": [
       "<div>\n",
       "<style scoped>\n",
       "    .dataframe tbody tr th:only-of-type {\n",
       "        vertical-align: middle;\n",
       "    }\n",
       "\n",
       "    .dataframe tbody tr th {\n",
       "        vertical-align: top;\n",
       "    }\n",
       "\n",
       "    .dataframe thead th {\n",
       "        text-align: right;\n",
       "    }\n",
       "</style>\n",
       "<table border=\"1\" class=\"dataframe\">\n",
       "  <thead>\n",
       "    <tr style=\"text-align: right;\">\n",
       "      <th></th>\n",
       "      <th>date</th>\n",
       "      <th>loads</th>\n",
       "      <th>zeroday_conv</th>\n",
       "      <th>zeroday_adspend</th>\n",
       "      <th>zeroday_new_conv</th>\n",
       "      <th>zeroday_new_adspend</th>\n",
       "      <th>all_conv</th>\n",
       "      <th>all_ad_spend</th>\n",
       "      <th>zeroday_new_conv_percent</th>\n",
       "      <th>zeroday_rpl</th>\n",
       "      <th>zeroday_new_rpl</th>\n",
       "      <th>all_rpl</th>\n",
       "      <th>all_conv_rate</th>\n",
       "      <th>zeroday_conv_rate</th>\n",
       "    </tr>\n",
       "  </thead>\n",
       "  <tbody>\n",
       "    <tr>\n",
       "      <th>24</th>\n",
       "      <td>2024-01-25</td>\n",
       "      <td>110000</td>\n",
       "      <td>102</td>\n",
       "      <td>1966.93</td>\n",
       "      <td>58</td>\n",
       "      <td>1454.00</td>\n",
       "      <td>783</td>\n",
       "      <td>14545.10</td>\n",
       "      <td>0.57</td>\n",
       "      <td>0.018</td>\n",
       "      <td>0.013</td>\n",
       "      <td>0.132</td>\n",
       "      <td>0.0071</td>\n",
       "      <td>0.00093</td>\n",
       "    </tr>\n",
       "    <tr>\n",
       "      <th>57</th>\n",
       "      <td>2024-02-27</td>\n",
       "      <td>166131</td>\n",
       "      <td>162</td>\n",
       "      <td>1894.00</td>\n",
       "      <td>91</td>\n",
       "      <td>1462.02</td>\n",
       "      <td>1149</td>\n",
       "      <td>14778.28</td>\n",
       "      <td>0.56</td>\n",
       "      <td>0.011</td>\n",
       "      <td>0.009</td>\n",
       "      <td>0.089</td>\n",
       "      <td>0.0069</td>\n",
       "      <td>0.00098</td>\n",
       "    </tr>\n",
       "    <tr>\n",
       "      <th>16</th>\n",
       "      <td>2024-01-17</td>\n",
       "      <td>128967</td>\n",
       "      <td>114</td>\n",
       "      <td>1874.50</td>\n",
       "      <td>66</td>\n",
       "      <td>1612.50</td>\n",
       "      <td>1135</td>\n",
       "      <td>14552.42</td>\n",
       "      <td>0.58</td>\n",
       "      <td>0.015</td>\n",
       "      <td>0.013</td>\n",
       "      <td>0.113</td>\n",
       "      <td>0.0088</td>\n",
       "      <td>0.00088</td>\n",
       "    </tr>\n",
       "    <tr>\n",
       "      <th>43</th>\n",
       "      <td>2024-02-13</td>\n",
       "      <td>128060</td>\n",
       "      <td>159</td>\n",
       "      <td>2749.00</td>\n",
       "      <td>96</td>\n",
       "      <td>2069.00</td>\n",
       "      <td>1346</td>\n",
       "      <td>19967.80</td>\n",
       "      <td>0.60</td>\n",
       "      <td>0.021</td>\n",
       "      <td>0.016</td>\n",
       "      <td>0.156</td>\n",
       "      <td>0.0105</td>\n",
       "      <td>0.00124</td>\n",
       "    </tr>\n",
       "    <tr>\n",
       "      <th>34</th>\n",
       "      <td>2024-02-04</td>\n",
       "      <td>88052</td>\n",
       "      <td>124</td>\n",
       "      <td>2671.82</td>\n",
       "      <td>63</td>\n",
       "      <td>1875.00</td>\n",
       "      <td>883</td>\n",
       "      <td>16709.87</td>\n",
       "      <td>0.51</td>\n",
       "      <td>0.030</td>\n",
       "      <td>0.021</td>\n",
       "      <td>0.190</td>\n",
       "      <td>0.0100</td>\n",
       "      <td>0.00141</td>\n",
       "    </tr>\n",
       "  </tbody>\n",
       "</table>\n",
       "</div>"
      ],
      "text/plain": [
       "          date   loads  zeroday_conv  zeroday_adspend  zeroday_new_conv  \\\n",
       "24  2024-01-25  110000           102          1966.93                58   \n",
       "57  2024-02-27  166131           162          1894.00                91   \n",
       "16  2024-01-17  128967           114          1874.50                66   \n",
       "43  2024-02-13  128060           159          2749.00                96   \n",
       "34  2024-02-04   88052           124          2671.82                63   \n",
       "\n",
       "    zeroday_new_adspend  all_conv  all_ad_spend  zeroday_new_conv_percent  \\\n",
       "24              1454.00       783      14545.10                      0.57   \n",
       "57              1462.02      1149      14778.28                      0.56   \n",
       "16              1612.50      1135      14552.42                      0.58   \n",
       "43              2069.00      1346      19967.80                      0.60   \n",
       "34              1875.00       883      16709.87                      0.51   \n",
       "\n",
       "    zeroday_rpl  zeroday_new_rpl  all_rpl  all_conv_rate  zeroday_conv_rate  \n",
       "24        0.018            0.013    0.132         0.0071            0.00093  \n",
       "57        0.011            0.009    0.089         0.0069            0.00098  \n",
       "16        0.015            0.013    0.113         0.0088            0.00088  \n",
       "43        0.021            0.016    0.156         0.0105            0.00124  \n",
       "34        0.030            0.021    0.190         0.0100            0.00141  "
      ]
     },
     "execution_count": 11,
     "metadata": {},
     "output_type": "execute_result"
    }
   ],
   "source": [
    "#Load RPL data\n",
    "df = pd.read_csv('data/input/zerodayRPL_vs_allRPL_v2.csv')\n",
    "#change all columns to lower case\n",
    "df.columns = df.columns.str.lower()\n",
    "#create all conv rate column\n",
    "df['all_conv_rate'] = round(df['all_conv'] / df['loads'],4)\n",
    "#create zero day conv rate column\n",
    "df['zeroday_conv_rate'] = round(df['zeroday_conv'] / df['loads'],5)\n",
    "df.sample(5)"
   ]
  },
  {
   "cell_type": "code",
   "execution_count": 10,
   "metadata": {},
   "outputs": [
    {
     "name": "stdout",
     "output_type": "stream",
     "text": [
      "0.78\n",
      "0.68\n",
      "0.53\n"
     ]
    }
   ],
   "source": [
    "#Find the correlation between zeroday_rpl and all_rpl\n",
    "print(df['zeroday_rpl'].corr(df['all_rpl']).round(2))\n",
    "#Find the correlation between zeroday_conv_rate and all_conv_rate\n",
    "print(df['zeroday_conv_rate'].corr(df['all_conv_rate']).round(2))\n",
    "#Find the correlation between zeroday_conv_rate and all_rpl\n",
    "print(df['zeroday_conv_rate'].corr(df['all_rpl']).round(2))"
   ]
  },
  {
   "cell_type": "code",
   "execution_count": 12,
   "metadata": {},
   "outputs": [
    {
     "name": "stdout",
     "output_type": "stream",
     "text": [
      "0.34\n"
     ]
    }
   ],
   "source": [
    "#Find the correlation between zeroday_new_conv_percent and all_rpl\n",
    "print(df['zeroday_new_cust_conv_percent'].corr(df['all_rpl']).round(2))"
   ]
  },
  {
   "cell_type": "code",
   "execution_count": 14,
   "metadata": {},
   "outputs": [
    {
     "name": "stdout",
     "output_type": "stream",
     "text": [
      "0.63\n"
     ]
    }
   ],
   "source": [
    "#Find the correlation between zeroday_new_conv_percent and all_rpl\n",
    "print(df['zeroday_adspend'].corr(df['all_rpl']).round(2))"
   ]
  },
  {
   "cell_type": "code",
   "execution_count": null,
   "metadata": {},
   "outputs": [],
   "source": []
  }
 ],
 "metadata": {
  "kernelspec": {
   "display_name": "Python 3",
   "language": "python",
   "name": "python3"
  },
  "language_info": {
   "codemirror_mode": {
    "name": "ipython",
    "version": 3
   },
   "file_extension": ".py",
   "mimetype": "text/x-python",
   "name": "python",
   "nbconvert_exporter": "python",
   "pygments_lexer": "ipython3",
   "version": "3.11.7"
  }
 },
 "nbformat": 4,
 "nbformat_minor": 2
}
