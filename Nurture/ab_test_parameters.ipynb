{
 "cells": [
  {
   "cell_type": "code",
   "execution_count": 38,
   "metadata": {},
   "outputs": [
    {
     "name": "stdout",
     "output_type": "stream",
     "text": [
      "Required sample size per group: 207,755\n",
      "Days required to run the experiment: 27.70\n"
     ]
    }
   ],
   "source": [
    "import statsmodels.stats.api as sms\n",
    "# Example parameters (you should replace these with your actual values)\n",
    "alpha = 0.05  # Level of significance\n",
    "power = 0.90  # Desired power\n",
    "mean_rpi_control = 0.012  # 2 day RPL for the control group (Nurture existing since May)\n",
    "mean_rpi_experiment = 0.018  # 2 day RPL for the experiment group (New feature)\n",
    "std_dev = 0.696 # Standard deviation of RPI\n",
    "mde = mean_rpi_experiment - mean_rpi_control  # Minimum detectable effect\n",
    "mde = 0.007\n",
    "\n",
    "# Calculating effect size using Cohen's d\n",
    "effect_size = mde / std_dev  # Cohen's d = (mean1 - mean2) / sd; Here mean1-mean2 = mde\n",
    "\n",
    "# Calculate the required sample size per group\n",
    "sample_size = sms.TTestIndPower().solve_power(\n",
    "    effect_size=effect_size,\n",
    "    power=power,\n",
    "    alpha=alpha,\n",
    "    ratio=1.0,\n",
    "    alternative='two-sided'\n",
    ")\n",
    "\n",
    "#Print the required sample size with commas for better readability\n",
    "print(f\"Required sample size per group: {sample_size:,.0f}\")\n",
    "\n",
    "#assuming that each day, I expect 7,500 users per group, how many days would I need to run the experiment?\n",
    "days_required = sample_size / 7500\n",
    "print(f\"Days required to run the experiment: {days_required:.2f}\")"
   ]
  },
  {
   "cell_type": "code",
   "execution_count": null,
   "metadata": {},
   "outputs": [],
   "source": []
  }
 ],
 "metadata": {
  "kernelspec": {
   "display_name": "Python 3",
   "language": "python",
   "name": "python3"
  },
  "language_info": {
   "codemirror_mode": {
    "name": "ipython",
    "version": 3
   },
   "file_extension": ".py",
   "mimetype": "text/x-python",
   "name": "python",
   "nbconvert_exporter": "python",
   "pygments_lexer": "ipython3",
   "version": "3.11.7"
  }
 },
 "nbformat": 4,
 "nbformat_minor": 2
}
